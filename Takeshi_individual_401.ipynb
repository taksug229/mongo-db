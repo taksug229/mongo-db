{
 "cells": [
  {
   "cell_type": "markdown",
   "metadata": {},
   "source": [
    "## Practicing Mongo Queries"
   ]
  },
  {
   "cell_type": "markdown",
   "metadata": {},
   "source": [
    "3. Inspect the log collection in your database. How many entries are in the log collection?\n",
    "\n",
    "If you are not sure about what command to use, you can access the help section by:\n",
    "\n",
    "- help\n",
    "- db.help()\n",
    "- db.collection_name.help()\n",
    "\n",
    "Mongo also has tab complete, so you can tab complete some of your commands for convenience."
   ]
  },
  {
   "cell_type": "markdown",
   "metadata": {},
   "source": [
    "A: 3069\n",
    "\n",
    "db.log.count()"
   ]
  },
  {
   "cell_type": "markdown",
   "metadata": {},
   "source": [
    "4. Print out all of the clicks you have stored using .find(). Now using .limit(), return 10 entries. You can also use .findOne() to quickly view the first row and examine the available columns."
   ]
  },
  {
   "cell_type": "markdown",
   "metadata": {},
   "source": [
    "A: db.log.find().limit(10)"
   ]
  },
  {
   "cell_type": "markdown",
   "metadata": {},
   "source": [
    "5. Use .find() to find all the clicks where cy (city) is San Francisco. How many are there?"
   ]
  },
  {
   "cell_type": "markdown",
   "metadata": {},
   "source": [
    "A: 11\n",
    "\n",
    "db.log.find({\"cy\": 'San Francisco'}).count()"
   ]
  },
  {
   "cell_type": "markdown",
   "metadata": {},
   "source": [
    "6. Use .distinct() to find all the distinct types of web browsers (under the field a) people use to visit the sites. Count the the number of distinct web browsers (use .length on your distinct list)."
   ]
  },
  {
   "cell_type": "markdown",
   "metadata": {},
   "source": [
    "A: 559\n",
    "\n",
    "db.log.distinct(\"a\").length"
   ]
  },
  {
   "cell_type": "markdown",
   "metadata": {},
   "source": [
    "7. Select and count the records where the users have visited a website either from a Mozilla or an Opera web browser. Search the a field using regex in mongo."
   ]
  },
  {
   "cell_type": "markdown",
   "metadata": {},
   "source": [
    "A: db.log.find({\"a\":{$in: [ /Mozilla/, /Opera/]}}).count()"
   ]
  },
  {
   "cell_type": "markdown",
   "metadata": {},
   "source": [
    "8. Find the type of the t (timestamp) field. You can access the type of a field in an entry by using typeof db.log.findOne({'t': {$exists: true}}).t. The field should be a number now.\n",
    "\n",
    "Convert the timestamp field to the date type. You will need to multiply the number by 1000 and then make it a Date object (you can create a Date object by using new Date()). You can loop over each record using .forEach() and then .update() the record (using the _id field) with the created Date object. When you're done, confirm that the data type has been converted. Below is some template code.\n"
   ]
  },
  {
   "cell_type": "code",
   "execution_count": null,
   "metadata": {},
   "outputs": [],
   "source": [
    "db.log.find({'t': {$exists: true}}).forEach(function(entry) {\n",
    "   // your code to update an entry by _id and set the t field as a new \n",
    "   //  Date() object\n",
    "})"
   ]
  },
  {
   "cell_type": "markdown",
   "metadata": {},
   "source": []
  }
 ],
 "metadata": {
  "kernelspec": {
   "display_name": "Python 3",
   "language": "python",
   "name": "python3"
  },
  "language_info": {
   "codemirror_mode": {
    "name": "ipython",
    "version": 3
   },
   "file_extension": ".py",
   "mimetype": "text/x-python",
   "name": "python",
   "nbconvert_exporter": "python",
   "pygments_lexer": "ipython3",
   "version": "3.7.6"
  }
 },
 "nbformat": 4,
 "nbformat_minor": 4
}
